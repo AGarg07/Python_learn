{
 "cells": [
  {
   "cell_type": "code",
   "execution_count": 5,
   "id": "58c3f2e6",
   "metadata": {},
   "outputs": [],
   "source": [
    "# Importing Libraries\n",
    "import pandas as pd\n",
    "from datasets import load_dataset\n",
    "import matplotlib.pyplot as plt\n",
    "\n",
    "# Loading Data\n",
    "dataset = load_dataset('lukebarousse/data_jobs')\n",
    "df = dataset['train'].to_pandas()\n",
    "\n",
    "# Data Cleanup\n",
    "df['job_posted_date'] = pd.to_datetime(df['job_posted_date'])"
   ]
  },
  {
   "cell_type": "code",
   "execution_count": 6,
   "id": "abc3d640",
   "metadata": {},
   "outputs": [
    {
     "name": "stdout",
     "output_type": "stream",
     "text": [
      "Before: 785741, After:22003\n"
     ]
    }
   ],
   "source": [
    "df_clean = df.dropna(subset = 'salary_year_avg')\n",
    "print(f'Before: {len(df)}, After:{len(df_clean)}')"
   ]
  },
  {
   "cell_type": "code",
   "execution_count": 7,
   "id": "aede9236",
   "metadata": {},
   "outputs": [
    {
     "name": "stdout",
     "output_type": "stream",
     "text": [
      "Before: 785741, After:17218\n"
     ]
    }
   ],
   "source": [
    "df_dupes = df.drop_duplicates(subset='job_location')\n",
    "print(f'Before: {len(df)}, After:{len(df_dupes)}')"
   ]
  },
  {
   "cell_type": "code",
   "execution_count": 8,
   "id": "4db3aa2c",
   "metadata": {},
   "outputs": [
    {
     "data": {
      "text/plain": [
       "0    Unknown\n",
       "1    Unknown\n",
       "2    Unknown\n",
       "3    Unknown\n",
       "4    Unknown\n",
       "5    Unknown\n",
       "6    Unknown\n",
       "7    Unknown\n",
       "8    Unknown\n",
       "9    Unknown\n",
       "Name: salary_rate, dtype: object"
      ]
     },
     "execution_count": 8,
     "metadata": {},
     "output_type": "execute_result"
    }
   ],
   "source": [
    "df_fill = df.fillna(value='Unknown')\n",
    "df_fill['salary_rate'].head(10)"
   ]
  }
 ],
 "metadata": {
  "kernelspec": {
   "display_name": "python_course",
   "language": "python",
   "name": "python3"
  },
  "language_info": {
   "codemirror_mode": {
    "name": "ipython",
    "version": 3
   },
   "file_extension": ".py",
   "mimetype": "text/x-python",
   "name": "python",
   "nbconvert_exporter": "python",
   "pygments_lexer": "ipython3",
   "version": "3.12.11"
  }
 },
 "nbformat": 4,
 "nbformat_minor": 5
}
