{
 "cells": [
  {
   "cell_type": "code",
   "execution_count": 1,
   "id": "b629e767",
   "metadata": {},
   "outputs": [],
   "source": [
    "# Importing Libraries\n",
    "import pandas as pd\n",
    "from datasets import load_dataset\n",
    "import matplotlib.pyplot as plt\n",
    "\n",
    "# Loading Data\n",
    "dataset = load_dataset('lukebarousse/data_jobs')\n",
    "df = dataset['train'].to_pandas()\n",
    "\n",
    "# Data Cleanup\n",
    "df['job_posted_date'] = pd.to_datetime(df['job_posted_date'])"
   ]
  },
  {
   "cell_type": "code",
   "execution_count": 3,
   "id": "87bc82a1",
   "metadata": {},
   "outputs": [],
   "source": [
    "df.to_csv('data_jobs_export.csv',index= False)"
   ]
  },
  {
   "cell_type": "code",
   "execution_count": 5,
   "id": "42fa19c6",
   "metadata": {},
   "outputs": [],
   "source": [
    "df_ds = df[df['job_title_short'] == 'Data Scientist']\n",
    "df_ds.to_csv('data_scientist_jobs.csv', index= False)"
   ]
  },
  {
   "cell_type": "code",
   "execution_count": null,
   "id": "65c4c183",
   "metadata": {},
   "outputs": [],
   "source": [
    "df_ny= df[df['job_location']== 'New York, NY']\n",
    "df_ny.to_excel('ny_jobs.xlsx', index= False)\n"
   ]
  }
 ],
 "metadata": {
  "kernelspec": {
   "display_name": "python_course",
   "language": "python",
   "name": "python3"
  },
  "language_info": {
   "codemirror_mode": {
    "name": "ipython",
    "version": 3
   },
   "file_extension": ".py",
   "mimetype": "text/x-python",
   "name": "python",
   "nbconvert_exporter": "python",
   "pygments_lexer": "ipython3",
   "version": "3.12.11"
  }
 },
 "nbformat": 4,
 "nbformat_minor": 5
}
