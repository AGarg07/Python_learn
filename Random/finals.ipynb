{
 "cells": [
  {
   "cell_type": "code",
   "execution_count": 1,
   "id": "f6e93bbf",
   "metadata": {},
   "outputs": [],
   "source": [
    "import random\n",
    "import sys"
   ]
  },
  {
   "cell_type": "code",
   "execution_count": 2,
   "id": "c27180c9",
   "metadata": {},
   "outputs": [],
   "source": [
    "classes={\n",
    "    \"Light\":{\n",
    "        'spe':['Cloaking Device', 'Evasive Dash', 'Grappling Hook'],\n",
    "        'wep':['93R','ARN-220','Dagger','LH1','M11','M26Matter','Recurve Bow','SH1900','SR-84','Sword', 'Throwing Knives','V95','XP-54'],\n",
    "        'gadgets':['Breach Charge','Gateway','Glitch Grenade','Gravity Vortex','H+ Infuser','Sonar Grenades','Nullifier','Thermal Bore','Thermal Vision','Tracking Dart','Vanishing Bomb','Flashbang','Frag Grenade', 'Gas Grenade','Goo Grenade','Smoke Grenade','Pyro Grenade']\n",
    "    },\n",
    "    \"Medium\":{\n",
    "        'spe':['Dematerializer','Guardian Turret','Healing Beam','Recon Senses'],\n",
    "        'wep':['AKM','CB-01 Repeater','Cereberus 12GA','CL-40','Dual Blades','FAMAS','FCAR','Model 1887','P90','Pike-556','R .357','Riot Shield'],\n",
    "        'gadgets':['APS Turret','Breach Drill','Data Reshaper','Defibrillator','Explosive Mine','Gas Mine','Jump Pad','Zipline','Proximity Sensor','Glitch Trap','Flashbang','Frag Grenade', 'Gas Grenade','Goo Grenade','Smoke Grenade','Pyro Grenade']\n",
    "    },\n",
    "    \"Heavy\":{\n",
    "        'spe':['Charge N Slam','Goo Gun','Mesh Shield','Winch Claw'],\n",
    "        'wep':['.50 Akimbo','BFR Titan','Flamethrower','KS-23','Lewis Gun','M134 Minigun','M60','MGL32','SA1216','SHAK-50','Sledgehammer','Spear'],\n",
    "        'gadgets':['Anti-Gravity Cube','Barricade','C4','Dome Shield','Explosive Mine','Healing Emitter','Proximity Sensor','Lockbolt','Pyro Mine','RPG-7','Flashbang','Frag Grenade', 'Gas Grenade','Goo Grenade','Smoke Grenade','Pyro Grenade']\n",
    "\n",
    "    }\n",
    "}"
   ]
  },
  {
   "cell_type": "code",
   "execution_count": 4,
   "id": "03ada40f",
   "metadata": {},
   "outputs": [
    {
     "name": "stdout",
     "output_type": "stream",
     "text": [
      "Welcome to THE FINALS loadout Randomizer!\n",
      "Your Class is: Heavy\n",
      "Your Specialization is: Mesh Shield\n",
      "Your Weapon is: SHAK-50\n",
      "Your Gadgets are: Flashbang, Goo Grenade, RPG-7\n"
     ]
    }
   ],
   "source": [
    "print(\"Welcome to THE FINALS loadout Randomizer!\")\n",
    "\n",
    "while True:\n",
    "    user_input = input(\"Would you like to randomize your loadout? (yes/no): \").lower()\n",
    "    \n",
    "    if user_input == \"no\":\n",
    "        print(\"Alright, maybe next time!\")\n",
    "        sys.exit()\n",
    "    elif user_input == \"yes\":\n",
    "        break  # exit the loop and continue\n",
    "    else:\n",
    "        print(\"Please type 'yes' or 'no'.\")\n",
    "\n",
    "    \n",
    "pt = random.choice(list(classes.keys()))\n",
    "\n",
    "spec = random.choice(classes[pt]['spe'])\n",
    "wep = random.choice(classes[pt]['wep'])\n",
    "gadget = random.sample(classes[pt]['gadgets'],3)\n",
    "\n",
    "print(f'Your Class is: {pt}')\n",
    "print(f'Your Specialization is: {spec}')\n",
    "print(f'Your Weapon is: {wep}')\n",
    "print(f'Your Gadgets are: {', '.join(gadget)}')"
   ]
  }
 ],
 "metadata": {
  "kernelspec": {
   "display_name": "python_course",
   "language": "python",
   "name": "python3"
  },
  "language_info": {
   "codemirror_mode": {
    "name": "ipython",
    "version": 3
   },
   "file_extension": ".py",
   "mimetype": "text/x-python",
   "name": "python",
   "nbconvert_exporter": "python",
   "pygments_lexer": "ipython3",
   "version": "3.12.11"
  }
 },
 "nbformat": 4,
 "nbformat_minor": 5
}
